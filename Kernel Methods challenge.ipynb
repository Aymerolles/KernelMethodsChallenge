{
 "cells": [
  {
   "cell_type": "code",
   "execution_count": 1,
   "id": "bearing-maximum",
   "metadata": {},
   "outputs": [],
   "source": [
    "import pandas as pd\n",
    "import numpy as np\n",
    "\n",
    "from sklearn.model_selection import cross_validate, KFold\n",
    "\n",
    "import sys\n",
    "sys.path.append(\"/Users/hugoschnoering/Cours/S10/Kernel Methods/KernelMethodsChallenge\")\n",
    "\n",
    "from large_feature_space_kernels.mismatchingTrie import MismatchingTrie \n",
    "from estimators.svm_estimator import svm\n",
    "\n",
    "import cvxopt\n",
    "cvxopt.solvers.options['show_progress'] = False"
   ]
  },
  {
   "cell_type": "code",
   "execution_count": 2,
   "id": "entire-savings",
   "metadata": {},
   "outputs": [],
   "source": [
    "k = 1\n",
    "folder = \"machine-learning-with-kernel-methods-2021/\"\n",
    "Xtr = pd.read_csv(folder+\"Xtr\"+str(k)+\".csv\", index_col=0)\n",
    "Xte = pd.read_csv(folder+\"Xte\"+str(k)+\".csv\", index_col=0)\n",
    "Ytr = pd.read_csv(folder+\"Ytr\"+str(k)+\".csv\", index_col=0)\n",
    "Ytr[\"Bound\"] = Ytr[\"Bound\"].apply(lambda x: 1 if x == 1 else -1)"
   ]
  },
  {
   "cell_type": "code",
   "execution_count": 3,
   "id": "mature-wisconsin",
   "metadata": {},
   "outputs": [],
   "source": [
    "# dataset 2, alpha=0.5, k=6, m=1"
   ]
  },
  {
   "cell_type": "code",
   "execution_count": null,
   "id": "banned-engagement",
   "metadata": {},
   "outputs": [],
   "source": [
    "X = Xtr.values[:, 0]\n",
    "y = Ytr.values[:, 0]\n",
    "k = 3\n",
    "m = 0\n",
    "alpha_list = np.logspace(-7, 7, 15)\n",
    "split = 5\n",
    "\n",
    "for alpha in alpha_list:\n",
    "    kf = KFold(n_splits=split, shuffle=True)\n",
    "    test_score = []\n",
    "    for train_index, test_index in kf.split(X):\n",
    "        X_train, X_test = X[train_index], X[test_index]\n",
    "        y_train, y_test = y[train_index], y[test_index]\n",
    "        model_ = svm(k=k, m=m, alpha=alpha)\n",
    "        model_.fit(X_train, y_train)\n",
    "        print(np.sum(np.abs(model_.coef) < 1e-4))\n",
    "        test_score.append(model_.score(X_test, y_test))\n",
    "        del model_\n",
    "    print(\"{} : {}\".format(alpha, np.mean(test_score)))"
   ]
  },
  {
   "cell_type": "code",
   "execution_count": null,
   "id": "matched-distance",
   "metadata": {},
   "outputs": [],
   "source": []
  }
 ],
 "metadata": {
  "kernelspec": {
   "display_name": "Python 3",
   "language": "python",
   "name": "python3"
  },
  "language_info": {
   "codemirror_mode": {
    "name": "ipython",
    "version": 3
   },
   "file_extension": ".py",
   "mimetype": "text/x-python",
   "name": "python",
   "nbconvert_exporter": "python",
   "pygments_lexer": "ipython3",
   "version": "3.8.5"
  }
 },
 "nbformat": 4,
 "nbformat_minor": 5
}
